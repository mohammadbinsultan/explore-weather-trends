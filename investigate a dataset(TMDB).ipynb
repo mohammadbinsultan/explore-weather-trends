{
 "cells": [
  {
   "cell_type": "markdown",
   "metadata": {},
   "source": [
    "## Introduction\n",
    "\n",
    "### in this project i will try to provide a solution to some questions that i intend to ask by using the tmdb database:\n",
    "### - what are the genres that contributed the most in the movie industry?\n",
    "### - does a higher vote count contribute to a higher vote average?\n",
    "### - did the revenue increase over the years in the movie industry?"
   ]
  },
  {
   "cell_type": "code",
   "execution_count": 71,
   "metadata": {},
   "outputs": [],
   "source": [
    "import pandas as pd\n",
    "import numpy as np\n",
    "import pylab as pl\n",
    "import matplotlib.pyplot as plt\n",
    "%matplotlib inline\n",
    "import seaborn as sns"
   ]
  },
  {
   "cell_type": "markdown",
   "metadata": {},
   "source": [
    "<a id='wrangling'></a>\n",
    "## Data Wrangling\n",
    "\n",
    "\n",
    "## General Properties"
   ]
  },
  {
   "cell_type": "code",
   "execution_count": 48,
   "metadata": {},
   "outputs": [
    {
     "data": {
      "text/html": [
       "<div>\n",
       "<style scoped>\n",
       "    .dataframe tbody tr th:only-of-type {\n",
       "        vertical-align: middle;\n",
       "    }\n",
       "\n",
       "    .dataframe tbody tr th {\n",
       "        vertical-align: top;\n",
       "    }\n",
       "\n",
       "    .dataframe thead th {\n",
       "        text-align: right;\n",
       "    }\n",
       "</style>\n",
       "<table border=\"1\" class=\"dataframe\">\n",
       "  <thead>\n",
       "    <tr style=\"text-align: right;\">\n",
       "      <th></th>\n",
       "      <th>id</th>\n",
       "      <th>imdb_id</th>\n",
       "      <th>popularity</th>\n",
       "      <th>budget</th>\n",
       "      <th>revenue</th>\n",
       "      <th>original_title</th>\n",
       "      <th>cast</th>\n",
       "      <th>homepage</th>\n",
       "      <th>director</th>\n",
       "      <th>tagline</th>\n",
       "      <th>...</th>\n",
       "      <th>overview</th>\n",
       "      <th>runtime</th>\n",
       "      <th>genres</th>\n",
       "      <th>production_companies</th>\n",
       "      <th>release_date</th>\n",
       "      <th>vote_count</th>\n",
       "      <th>vote_average</th>\n",
       "      <th>release_year</th>\n",
       "      <th>budget_adj</th>\n",
       "      <th>revenue_adj</th>\n",
       "    </tr>\n",
       "  </thead>\n",
       "  <tbody>\n",
       "    <tr>\n",
       "      <th>0</th>\n",
       "      <td>135397</td>\n",
       "      <td>tt0369610</td>\n",
       "      <td>32.985763</td>\n",
       "      <td>150000000</td>\n",
       "      <td>1513528810</td>\n",
       "      <td>Jurassic World</td>\n",
       "      <td>Chris Pratt|Bryce Dallas Howard|Irrfan Khan|Vi...</td>\n",
       "      <td>http://www.jurassicworld.com/</td>\n",
       "      <td>Colin Trevorrow</td>\n",
       "      <td>The park is open.</td>\n",
       "      <td>...</td>\n",
       "      <td>Twenty-two years after the events of Jurassic ...</td>\n",
       "      <td>124</td>\n",
       "      <td>Action|Adventure|Science Fiction|Thriller</td>\n",
       "      <td>Universal Studios|Amblin Entertainment|Legenda...</td>\n",
       "      <td>6/9/15</td>\n",
       "      <td>5562</td>\n",
       "      <td>6.5</td>\n",
       "      <td>2015</td>\n",
       "      <td>1.379999e+08</td>\n",
       "      <td>1.392446e+09</td>\n",
       "    </tr>\n",
       "    <tr>\n",
       "      <th>1</th>\n",
       "      <td>76341</td>\n",
       "      <td>tt1392190</td>\n",
       "      <td>28.419936</td>\n",
       "      <td>150000000</td>\n",
       "      <td>378436354</td>\n",
       "      <td>Mad Max: Fury Road</td>\n",
       "      <td>Tom Hardy|Charlize Theron|Hugh Keays-Byrne|Nic...</td>\n",
       "      <td>http://www.madmaxmovie.com/</td>\n",
       "      <td>George Miller</td>\n",
       "      <td>What a Lovely Day.</td>\n",
       "      <td>...</td>\n",
       "      <td>An apocalyptic story set in the furthest reach...</td>\n",
       "      <td>120</td>\n",
       "      <td>Action|Adventure|Science Fiction|Thriller</td>\n",
       "      <td>Village Roadshow Pictures|Kennedy Miller Produ...</td>\n",
       "      <td>5/13/15</td>\n",
       "      <td>6185</td>\n",
       "      <td>7.1</td>\n",
       "      <td>2015</td>\n",
       "      <td>1.379999e+08</td>\n",
       "      <td>3.481613e+08</td>\n",
       "    </tr>\n",
       "    <tr>\n",
       "      <th>2</th>\n",
       "      <td>262500</td>\n",
       "      <td>tt2908446</td>\n",
       "      <td>13.112507</td>\n",
       "      <td>110000000</td>\n",
       "      <td>295238201</td>\n",
       "      <td>Insurgent</td>\n",
       "      <td>Shailene Woodley|Theo James|Kate Winslet|Ansel...</td>\n",
       "      <td>http://www.thedivergentseries.movie/#insurgent</td>\n",
       "      <td>Robert Schwentke</td>\n",
       "      <td>One Choice Can Destroy You</td>\n",
       "      <td>...</td>\n",
       "      <td>Beatrice Prior must confront her inner demons ...</td>\n",
       "      <td>119</td>\n",
       "      <td>Adventure|Science Fiction|Thriller</td>\n",
       "      <td>Summit Entertainment|Mandeville Films|Red Wago...</td>\n",
       "      <td>3/18/15</td>\n",
       "      <td>2480</td>\n",
       "      <td>6.3</td>\n",
       "      <td>2015</td>\n",
       "      <td>1.012000e+08</td>\n",
       "      <td>2.716190e+08</td>\n",
       "    </tr>\n",
       "    <tr>\n",
       "      <th>3</th>\n",
       "      <td>140607</td>\n",
       "      <td>tt2488496</td>\n",
       "      <td>11.173104</td>\n",
       "      <td>200000000</td>\n",
       "      <td>2068178225</td>\n",
       "      <td>Star Wars: The Force Awakens</td>\n",
       "      <td>Harrison Ford|Mark Hamill|Carrie Fisher|Adam D...</td>\n",
       "      <td>http://www.starwars.com/films/star-wars-episod...</td>\n",
       "      <td>J.J. Abrams</td>\n",
       "      <td>Every generation has a story.</td>\n",
       "      <td>...</td>\n",
       "      <td>Thirty years after defeating the Galactic Empi...</td>\n",
       "      <td>136</td>\n",
       "      <td>Action|Adventure|Science Fiction|Fantasy</td>\n",
       "      <td>Lucasfilm|Truenorth Productions|Bad Robot</td>\n",
       "      <td>12/15/15</td>\n",
       "      <td>5292</td>\n",
       "      <td>7.5</td>\n",
       "      <td>2015</td>\n",
       "      <td>1.839999e+08</td>\n",
       "      <td>1.902723e+09</td>\n",
       "    </tr>\n",
       "    <tr>\n",
       "      <th>4</th>\n",
       "      <td>168259</td>\n",
       "      <td>tt2820852</td>\n",
       "      <td>9.335014</td>\n",
       "      <td>190000000</td>\n",
       "      <td>1506249360</td>\n",
       "      <td>Furious 7</td>\n",
       "      <td>Vin Diesel|Paul Walker|Jason Statham|Michelle ...</td>\n",
       "      <td>http://www.furious7.com/</td>\n",
       "      <td>James Wan</td>\n",
       "      <td>Vengeance Hits Home</td>\n",
       "      <td>...</td>\n",
       "      <td>Deckard Shaw seeks revenge against Dominic Tor...</td>\n",
       "      <td>137</td>\n",
       "      <td>Action|Crime|Thriller</td>\n",
       "      <td>Universal Pictures|Original Film|Media Rights ...</td>\n",
       "      <td>4/1/15</td>\n",
       "      <td>2947</td>\n",
       "      <td>7.3</td>\n",
       "      <td>2015</td>\n",
       "      <td>1.747999e+08</td>\n",
       "      <td>1.385749e+09</td>\n",
       "    </tr>\n",
       "  </tbody>\n",
       "</table>\n",
       "<p>5 rows × 21 columns</p>\n",
       "</div>"
      ],
      "text/plain": [
       "       id    imdb_id  popularity     budget     revenue  \\\n",
       "0  135397  tt0369610   32.985763  150000000  1513528810   \n",
       "1   76341  tt1392190   28.419936  150000000   378436354   \n",
       "2  262500  tt2908446   13.112507  110000000   295238201   \n",
       "3  140607  tt2488496   11.173104  200000000  2068178225   \n",
       "4  168259  tt2820852    9.335014  190000000  1506249360   \n",
       "\n",
       "                 original_title  \\\n",
       "0                Jurassic World   \n",
       "1            Mad Max: Fury Road   \n",
       "2                     Insurgent   \n",
       "3  Star Wars: The Force Awakens   \n",
       "4                     Furious 7   \n",
       "\n",
       "                                                cast  \\\n",
       "0  Chris Pratt|Bryce Dallas Howard|Irrfan Khan|Vi...   \n",
       "1  Tom Hardy|Charlize Theron|Hugh Keays-Byrne|Nic...   \n",
       "2  Shailene Woodley|Theo James|Kate Winslet|Ansel...   \n",
       "3  Harrison Ford|Mark Hamill|Carrie Fisher|Adam D...   \n",
       "4  Vin Diesel|Paul Walker|Jason Statham|Michelle ...   \n",
       "\n",
       "                                            homepage          director  \\\n",
       "0                      http://www.jurassicworld.com/   Colin Trevorrow   \n",
       "1                        http://www.madmaxmovie.com/     George Miller   \n",
       "2     http://www.thedivergentseries.movie/#insurgent  Robert Schwentke   \n",
       "3  http://www.starwars.com/films/star-wars-episod...       J.J. Abrams   \n",
       "4                           http://www.furious7.com/         James Wan   \n",
       "\n",
       "                         tagline  ...  \\\n",
       "0              The park is open.  ...   \n",
       "1             What a Lovely Day.  ...   \n",
       "2     One Choice Can Destroy You  ...   \n",
       "3  Every generation has a story.  ...   \n",
       "4            Vengeance Hits Home  ...   \n",
       "\n",
       "                                            overview runtime  \\\n",
       "0  Twenty-two years after the events of Jurassic ...     124   \n",
       "1  An apocalyptic story set in the furthest reach...     120   \n",
       "2  Beatrice Prior must confront her inner demons ...     119   \n",
       "3  Thirty years after defeating the Galactic Empi...     136   \n",
       "4  Deckard Shaw seeks revenge against Dominic Tor...     137   \n",
       "\n",
       "                                      genres  \\\n",
       "0  Action|Adventure|Science Fiction|Thriller   \n",
       "1  Action|Adventure|Science Fiction|Thriller   \n",
       "2         Adventure|Science Fiction|Thriller   \n",
       "3   Action|Adventure|Science Fiction|Fantasy   \n",
       "4                      Action|Crime|Thriller   \n",
       "\n",
       "                                production_companies release_date vote_count  \\\n",
       "0  Universal Studios|Amblin Entertainment|Legenda...       6/9/15       5562   \n",
       "1  Village Roadshow Pictures|Kennedy Miller Produ...      5/13/15       6185   \n",
       "2  Summit Entertainment|Mandeville Films|Red Wago...      3/18/15       2480   \n",
       "3          Lucasfilm|Truenorth Productions|Bad Robot     12/15/15       5292   \n",
       "4  Universal Pictures|Original Film|Media Rights ...       4/1/15       2947   \n",
       "\n",
       "   vote_average  release_year    budget_adj   revenue_adj  \n",
       "0           6.5          2015  1.379999e+08  1.392446e+09  \n",
       "1           7.1          2015  1.379999e+08  3.481613e+08  \n",
       "2           6.3          2015  1.012000e+08  2.716190e+08  \n",
       "3           7.5          2015  1.839999e+08  1.902723e+09  \n",
       "4           7.3          2015  1.747999e+08  1.385749e+09  \n",
       "\n",
       "[5 rows x 21 columns]"
      ]
     },
     "execution_count": 48,
     "metadata": {},
     "output_type": "execute_result"
    }
   ],
   "source": [
    "df = pd.read_csv('tmdb-movies.csv')\n",
    "df.head()"
   ]
  },
  {
   "cell_type": "code",
   "execution_count": 49,
   "metadata": {},
   "outputs": [
    {
     "data": {
      "text/plain": [
       "(10866, 21)"
      ]
     },
     "execution_count": 49,
     "metadata": {},
     "output_type": "execute_result"
    }
   ],
   "source": [
    "df.shape"
   ]
  },
  {
   "cell_type": "code",
   "execution_count": 50,
   "metadata": {},
   "outputs": [
    {
     "data": {
      "text/html": [
       "<div>\n",
       "<style scoped>\n",
       "    .dataframe tbody tr th:only-of-type {\n",
       "        vertical-align: middle;\n",
       "    }\n",
       "\n",
       "    .dataframe tbody tr th {\n",
       "        vertical-align: top;\n",
       "    }\n",
       "\n",
       "    .dataframe thead th {\n",
       "        text-align: right;\n",
       "    }\n",
       "</style>\n",
       "<table border=\"1\" class=\"dataframe\">\n",
       "  <thead>\n",
       "    <tr style=\"text-align: right;\">\n",
       "      <th></th>\n",
       "      <th>id</th>\n",
       "      <th>popularity</th>\n",
       "      <th>budget</th>\n",
       "      <th>revenue</th>\n",
       "      <th>runtime</th>\n",
       "      <th>vote_count</th>\n",
       "      <th>vote_average</th>\n",
       "      <th>release_year</th>\n",
       "      <th>budget_adj</th>\n",
       "      <th>revenue_adj</th>\n",
       "    </tr>\n",
       "  </thead>\n",
       "  <tbody>\n",
       "    <tr>\n",
       "      <th>count</th>\n",
       "      <td>10866.000000</td>\n",
       "      <td>10866.000000</td>\n",
       "      <td>1.086600e+04</td>\n",
       "      <td>1.086600e+04</td>\n",
       "      <td>10866.000000</td>\n",
       "      <td>10866.000000</td>\n",
       "      <td>10866.000000</td>\n",
       "      <td>10866.000000</td>\n",
       "      <td>1.086600e+04</td>\n",
       "      <td>1.086600e+04</td>\n",
       "    </tr>\n",
       "    <tr>\n",
       "      <th>mean</th>\n",
       "      <td>66064.177434</td>\n",
       "      <td>0.646441</td>\n",
       "      <td>1.462570e+07</td>\n",
       "      <td>3.982332e+07</td>\n",
       "      <td>102.070863</td>\n",
       "      <td>217.389748</td>\n",
       "      <td>5.974922</td>\n",
       "      <td>2001.322658</td>\n",
       "      <td>1.755104e+07</td>\n",
       "      <td>5.136436e+07</td>\n",
       "    </tr>\n",
       "    <tr>\n",
       "      <th>std</th>\n",
       "      <td>92130.136561</td>\n",
       "      <td>1.000185</td>\n",
       "      <td>3.091321e+07</td>\n",
       "      <td>1.170035e+08</td>\n",
       "      <td>31.381405</td>\n",
       "      <td>575.619058</td>\n",
       "      <td>0.935142</td>\n",
       "      <td>12.812941</td>\n",
       "      <td>3.430616e+07</td>\n",
       "      <td>1.446325e+08</td>\n",
       "    </tr>\n",
       "    <tr>\n",
       "      <th>min</th>\n",
       "      <td>5.000000</td>\n",
       "      <td>0.000065</td>\n",
       "      <td>0.000000e+00</td>\n",
       "      <td>0.000000e+00</td>\n",
       "      <td>0.000000</td>\n",
       "      <td>10.000000</td>\n",
       "      <td>1.500000</td>\n",
       "      <td>1960.000000</td>\n",
       "      <td>0.000000e+00</td>\n",
       "      <td>0.000000e+00</td>\n",
       "    </tr>\n",
       "    <tr>\n",
       "      <th>25%</th>\n",
       "      <td>10596.250000</td>\n",
       "      <td>0.207583</td>\n",
       "      <td>0.000000e+00</td>\n",
       "      <td>0.000000e+00</td>\n",
       "      <td>90.000000</td>\n",
       "      <td>17.000000</td>\n",
       "      <td>5.400000</td>\n",
       "      <td>1995.000000</td>\n",
       "      <td>0.000000e+00</td>\n",
       "      <td>0.000000e+00</td>\n",
       "    </tr>\n",
       "    <tr>\n",
       "      <th>50%</th>\n",
       "      <td>20669.000000</td>\n",
       "      <td>0.383856</td>\n",
       "      <td>0.000000e+00</td>\n",
       "      <td>0.000000e+00</td>\n",
       "      <td>99.000000</td>\n",
       "      <td>38.000000</td>\n",
       "      <td>6.000000</td>\n",
       "      <td>2006.000000</td>\n",
       "      <td>0.000000e+00</td>\n",
       "      <td>0.000000e+00</td>\n",
       "    </tr>\n",
       "    <tr>\n",
       "      <th>75%</th>\n",
       "      <td>75610.000000</td>\n",
       "      <td>0.713817</td>\n",
       "      <td>1.500000e+07</td>\n",
       "      <td>2.400000e+07</td>\n",
       "      <td>111.000000</td>\n",
       "      <td>145.750000</td>\n",
       "      <td>6.600000</td>\n",
       "      <td>2011.000000</td>\n",
       "      <td>2.085325e+07</td>\n",
       "      <td>3.369710e+07</td>\n",
       "    </tr>\n",
       "    <tr>\n",
       "      <th>max</th>\n",
       "      <td>417859.000000</td>\n",
       "      <td>32.985763</td>\n",
       "      <td>4.250000e+08</td>\n",
       "      <td>2.781506e+09</td>\n",
       "      <td>900.000000</td>\n",
       "      <td>9767.000000</td>\n",
       "      <td>9.200000</td>\n",
       "      <td>2015.000000</td>\n",
       "      <td>4.250000e+08</td>\n",
       "      <td>2.827124e+09</td>\n",
       "    </tr>\n",
       "  </tbody>\n",
       "</table>\n",
       "</div>"
      ],
      "text/plain": [
       "                  id    popularity        budget       revenue       runtime  \\\n",
       "count   10866.000000  10866.000000  1.086600e+04  1.086600e+04  10866.000000   \n",
       "mean    66064.177434      0.646441  1.462570e+07  3.982332e+07    102.070863   \n",
       "std     92130.136561      1.000185  3.091321e+07  1.170035e+08     31.381405   \n",
       "min         5.000000      0.000065  0.000000e+00  0.000000e+00      0.000000   \n",
       "25%     10596.250000      0.207583  0.000000e+00  0.000000e+00     90.000000   \n",
       "50%     20669.000000      0.383856  0.000000e+00  0.000000e+00     99.000000   \n",
       "75%     75610.000000      0.713817  1.500000e+07  2.400000e+07    111.000000   \n",
       "max    417859.000000     32.985763  4.250000e+08  2.781506e+09    900.000000   \n",
       "\n",
       "         vote_count  vote_average  release_year    budget_adj   revenue_adj  \n",
       "count  10866.000000  10866.000000  10866.000000  1.086600e+04  1.086600e+04  \n",
       "mean     217.389748      5.974922   2001.322658  1.755104e+07  5.136436e+07  \n",
       "std      575.619058      0.935142     12.812941  3.430616e+07  1.446325e+08  \n",
       "min       10.000000      1.500000   1960.000000  0.000000e+00  0.000000e+00  \n",
       "25%       17.000000      5.400000   1995.000000  0.000000e+00  0.000000e+00  \n",
       "50%       38.000000      6.000000   2006.000000  0.000000e+00  0.000000e+00  \n",
       "75%      145.750000      6.600000   2011.000000  2.085325e+07  3.369710e+07  \n",
       "max     9767.000000      9.200000   2015.000000  4.250000e+08  2.827124e+09  "
      ]
     },
     "execution_count": 50,
     "metadata": {},
     "output_type": "execute_result"
    }
   ],
   "source": [
    "df.describe()"
   ]
  },
  {
   "cell_type": "code",
   "execution_count": 51,
   "metadata": {},
   "outputs": [
    {
     "name": "stdout",
     "output_type": "stream",
     "text": [
      "<class 'pandas.core.frame.DataFrame'>\n",
      "RangeIndex: 10866 entries, 0 to 10865\n",
      "Data columns (total 21 columns):\n",
      " #   Column                Non-Null Count  Dtype  \n",
      "---  ------                --------------  -----  \n",
      " 0   id                    10866 non-null  int64  \n",
      " 1   imdb_id               10856 non-null  object \n",
      " 2   popularity            10866 non-null  float64\n",
      " 3   budget                10866 non-null  int64  \n",
      " 4   revenue               10866 non-null  int64  \n",
      " 5   original_title        10866 non-null  object \n",
      " 6   cast                  10790 non-null  object \n",
      " 7   homepage              2936 non-null   object \n",
      " 8   director              10822 non-null  object \n",
      " 9   tagline               8042 non-null   object \n",
      " 10  keywords              9373 non-null   object \n",
      " 11  overview              10862 non-null  object \n",
      " 12  runtime               10866 non-null  int64  \n",
      " 13  genres                10843 non-null  object \n",
      " 14  production_companies  9836 non-null   object \n",
      " 15  release_date          10866 non-null  object \n",
      " 16  vote_count            10866 non-null  int64  \n",
      " 17  vote_average          10866 non-null  float64\n",
      " 18  release_year          10866 non-null  int64  \n",
      " 19  budget_adj            10866 non-null  float64\n",
      " 20  revenue_adj           10866 non-null  float64\n",
      "dtypes: float64(4), int64(6), object(11)\n",
      "memory usage: 1.7+ MB\n"
     ]
    }
   ],
   "source": [
    "df.info()"
   ]
  },
  {
   "cell_type": "markdown",
   "metadata": {},
   "source": [
    "\n",
    "\n",
    "\n",
    "\n",
    "## Data Cleaning (dropping the colomns that i won't use and removing the null and zero values)."
   ]
  },
  {
   "cell_type": "code",
   "execution_count": 52,
   "metadata": {
    "scrolled": true
   },
   "outputs": [
    {
     "data": {
      "text/html": [
       "<div>\n",
       "<style scoped>\n",
       "    .dataframe tbody tr th:only-of-type {\n",
       "        vertical-align: middle;\n",
       "    }\n",
       "\n",
       "    .dataframe tbody tr th {\n",
       "        vertical-align: top;\n",
       "    }\n",
       "\n",
       "    .dataframe thead th {\n",
       "        text-align: right;\n",
       "    }\n",
       "</style>\n",
       "<table border=\"1\" class=\"dataframe\">\n",
       "  <thead>\n",
       "    <tr style=\"text-align: right;\">\n",
       "      <th></th>\n",
       "      <th>budget</th>\n",
       "      <th>revenue</th>\n",
       "      <th>original_title</th>\n",
       "      <th>cast</th>\n",
       "      <th>director</th>\n",
       "      <th>runtime</th>\n",
       "      <th>genres</th>\n",
       "      <th>vote_count</th>\n",
       "      <th>vote_average</th>\n",
       "      <th>release_year</th>\n",
       "    </tr>\n",
       "  </thead>\n",
       "  <tbody>\n",
       "    <tr>\n",
       "      <th>0</th>\n",
       "      <td>150000000</td>\n",
       "      <td>1513528810</td>\n",
       "      <td>Jurassic World</td>\n",
       "      <td>Chris Pratt|Bryce Dallas Howard|Irrfan Khan|Vi...</td>\n",
       "      <td>Colin Trevorrow</td>\n",
       "      <td>124</td>\n",
       "      <td>Action|Adventure|Science Fiction|Thriller</td>\n",
       "      <td>5562</td>\n",
       "      <td>6.5</td>\n",
       "      <td>2015</td>\n",
       "    </tr>\n",
       "    <tr>\n",
       "      <th>1</th>\n",
       "      <td>150000000</td>\n",
       "      <td>378436354</td>\n",
       "      <td>Mad Max: Fury Road</td>\n",
       "      <td>Tom Hardy|Charlize Theron|Hugh Keays-Byrne|Nic...</td>\n",
       "      <td>George Miller</td>\n",
       "      <td>120</td>\n",
       "      <td>Action|Adventure|Science Fiction|Thriller</td>\n",
       "      <td>6185</td>\n",
       "      <td>7.1</td>\n",
       "      <td>2015</td>\n",
       "    </tr>\n",
       "    <tr>\n",
       "      <th>2</th>\n",
       "      <td>110000000</td>\n",
       "      <td>295238201</td>\n",
       "      <td>Insurgent</td>\n",
       "      <td>Shailene Woodley|Theo James|Kate Winslet|Ansel...</td>\n",
       "      <td>Robert Schwentke</td>\n",
       "      <td>119</td>\n",
       "      <td>Adventure|Science Fiction|Thriller</td>\n",
       "      <td>2480</td>\n",
       "      <td>6.3</td>\n",
       "      <td>2015</td>\n",
       "    </tr>\n",
       "    <tr>\n",
       "      <th>3</th>\n",
       "      <td>200000000</td>\n",
       "      <td>2068178225</td>\n",
       "      <td>Star Wars: The Force Awakens</td>\n",
       "      <td>Harrison Ford|Mark Hamill|Carrie Fisher|Adam D...</td>\n",
       "      <td>J.J. Abrams</td>\n",
       "      <td>136</td>\n",
       "      <td>Action|Adventure|Science Fiction|Fantasy</td>\n",
       "      <td>5292</td>\n",
       "      <td>7.5</td>\n",
       "      <td>2015</td>\n",
       "    </tr>\n",
       "    <tr>\n",
       "      <th>4</th>\n",
       "      <td>190000000</td>\n",
       "      <td>1506249360</td>\n",
       "      <td>Furious 7</td>\n",
       "      <td>Vin Diesel|Paul Walker|Jason Statham|Michelle ...</td>\n",
       "      <td>James Wan</td>\n",
       "      <td>137</td>\n",
       "      <td>Action|Crime|Thriller</td>\n",
       "      <td>2947</td>\n",
       "      <td>7.3</td>\n",
       "      <td>2015</td>\n",
       "    </tr>\n",
       "  </tbody>\n",
       "</table>\n",
       "</div>"
      ],
      "text/plain": [
       "      budget     revenue                original_title  \\\n",
       "0  150000000  1513528810                Jurassic World   \n",
       "1  150000000   378436354            Mad Max: Fury Road   \n",
       "2  110000000   295238201                     Insurgent   \n",
       "3  200000000  2068178225  Star Wars: The Force Awakens   \n",
       "4  190000000  1506249360                     Furious 7   \n",
       "\n",
       "                                                cast          director  \\\n",
       "0  Chris Pratt|Bryce Dallas Howard|Irrfan Khan|Vi...   Colin Trevorrow   \n",
       "1  Tom Hardy|Charlize Theron|Hugh Keays-Byrne|Nic...     George Miller   \n",
       "2  Shailene Woodley|Theo James|Kate Winslet|Ansel...  Robert Schwentke   \n",
       "3  Harrison Ford|Mark Hamill|Carrie Fisher|Adam D...       J.J. Abrams   \n",
       "4  Vin Diesel|Paul Walker|Jason Statham|Michelle ...         James Wan   \n",
       "\n",
       "   runtime                                     genres  vote_count  \\\n",
       "0      124  Action|Adventure|Science Fiction|Thriller        5562   \n",
       "1      120  Action|Adventure|Science Fiction|Thriller        6185   \n",
       "2      119         Adventure|Science Fiction|Thriller        2480   \n",
       "3      136   Action|Adventure|Science Fiction|Fantasy        5292   \n",
       "4      137                      Action|Crime|Thriller        2947   \n",
       "\n",
       "   vote_average  release_year  \n",
       "0           6.5          2015  \n",
       "1           7.1          2015  \n",
       "2           6.3          2015  \n",
       "3           7.5          2015  \n",
       "4           7.3          2015  "
      ]
     },
     "execution_count": 52,
     "metadata": {},
     "output_type": "execute_result"
    }
   ],
   "source": [
    "df.drop(['id','imdb_id','homepage','tagline','keywords','overview','production_companies','budget_adj','revenue_adj','release_date','popularity'], axis=1, inplace=True)\n",
    "df.head()"
   ]
  },
  {
   "cell_type": "code",
   "execution_count": 53,
   "metadata": {},
   "outputs": [
    {
     "name": "stdout",
     "output_type": "stream",
     "text": [
      "<class 'pandas.core.frame.DataFrame'>\n",
      "RangeIndex: 10866 entries, 0 to 10865\n",
      "Data columns (total 10 columns):\n",
      " #   Column          Non-Null Count  Dtype  \n",
      "---  ------          --------------  -----  \n",
      " 0   budget          10866 non-null  int64  \n",
      " 1   revenue         10866 non-null  int64  \n",
      " 2   original_title  10866 non-null  object \n",
      " 3   cast            10790 non-null  object \n",
      " 4   director        10822 non-null  object \n",
      " 5   runtime         10866 non-null  int64  \n",
      " 6   genres          10843 non-null  object \n",
      " 7   vote_count      10866 non-null  int64  \n",
      " 8   vote_average    10866 non-null  float64\n",
      " 9   release_year    10866 non-null  int64  \n",
      "dtypes: float64(1), int64(5), object(4)\n",
      "memory usage: 849.0+ KB\n"
     ]
    }
   ],
   "source": [
    "df.info()"
   ]
  },
  {
   "cell_type": "code",
   "execution_count": 54,
   "metadata": {},
   "outputs": [
    {
     "name": "stdout",
     "output_type": "stream",
     "text": [
      "<class 'pandas.core.frame.DataFrame'>\n",
      "Int64Index: 10732 entries, 0 to 10865\n",
      "Data columns (total 10 columns):\n",
      " #   Column          Non-Null Count  Dtype  \n",
      "---  ------          --------------  -----  \n",
      " 0   budget          10732 non-null  int64  \n",
      " 1   revenue         10732 non-null  int64  \n",
      " 2   original_title  10732 non-null  object \n",
      " 3   cast            10732 non-null  object \n",
      " 4   director        10732 non-null  object \n",
      " 5   runtime         10732 non-null  int64  \n",
      " 6   genres          10732 non-null  object \n",
      " 7   vote_count      10732 non-null  int64  \n",
      " 8   vote_average    10732 non-null  float64\n",
      " 9   release_year    10732 non-null  int64  \n",
      "dtypes: float64(1), int64(5), object(4)\n",
      "memory usage: 922.3+ KB\n"
     ]
    }
   ],
   "source": [
    "df.dropna(inplace=True)\n",
    "df.info()"
   ]
  },
  {
   "cell_type": "code",
   "execution_count": 55,
   "metadata": {},
   "outputs": [
    {
     "name": "stdout",
     "output_type": "stream",
     "text": [
      "14805062.129332837\n"
     ]
    }
   ],
   "source": [
    "print(df['budget'].mean())"
   ]
  },
  {
   "cell_type": "code",
   "execution_count": 56,
   "metadata": {},
   "outputs": [],
   "source": [
    "df['budget'] = df['budget'].replace(0, 14805062.129332837)"
   ]
  },
  {
   "cell_type": "code",
   "execution_count": 57,
   "metadata": {},
   "outputs": [
    {
     "name": "stdout",
     "output_type": "stream",
     "text": [
      "40316220.714405514\n"
     ]
    }
   ],
   "source": [
    "print(df['revenue'].mean())"
   ]
  },
  {
   "cell_type": "code",
   "execution_count": 58,
   "metadata": {},
   "outputs": [],
   "source": [
    "df['revenue'] = df['revenue'].replace(0, 62435295.217423685)"
   ]
  },
  {
   "cell_type": "code",
   "execution_count": 59,
   "metadata": {},
   "outputs": [
    {
     "name": "stdout",
     "output_type": "stream",
     "text": [
      "102.46785314945956\n"
     ]
    }
   ],
   "source": [
    "print(df['runtime'].mean())"
   ]
  },
  {
   "cell_type": "code",
   "execution_count": 60,
   "metadata": {},
   "outputs": [],
   "source": [
    "df['runtime'] = df['runtime'].replace(0, 102.46785314945956)"
   ]
  },
  {
   "cell_type": "markdown",
   "metadata": {},
   "source": [
    "## checking and visualizing the data"
   ]
  },
  {
   "cell_type": "code",
   "execution_count": 61,
   "metadata": {},
   "outputs": [
    {
     "data": {
      "text/html": [
       "<div>\n",
       "<style scoped>\n",
       "    .dataframe tbody tr th:only-of-type {\n",
       "        vertical-align: middle;\n",
       "    }\n",
       "\n",
       "    .dataframe tbody tr th {\n",
       "        vertical-align: top;\n",
       "    }\n",
       "\n",
       "    .dataframe thead th {\n",
       "        text-align: right;\n",
       "    }\n",
       "</style>\n",
       "<table border=\"1\" class=\"dataframe\">\n",
       "  <thead>\n",
       "    <tr style=\"text-align: right;\">\n",
       "      <th></th>\n",
       "      <th>budget</th>\n",
       "      <th>revenue</th>\n",
       "      <th>runtime</th>\n",
       "      <th>vote_count</th>\n",
       "      <th>vote_average</th>\n",
       "      <th>release_year</th>\n",
       "    </tr>\n",
       "  </thead>\n",
       "  <tbody>\n",
       "    <tr>\n",
       "      <th>count</th>\n",
       "      <td>1.073200e+04</td>\n",
       "      <td>1.073200e+04</td>\n",
       "      <td>10732.000000</td>\n",
       "      <td>10732.000000</td>\n",
       "      <td>10732.000000</td>\n",
       "      <td>10732.000000</td>\n",
       "    </tr>\n",
       "    <tr>\n",
       "      <th>mean</th>\n",
       "      <td>2.250005e+07</td>\n",
       "      <td>7.457070e+07</td>\n",
       "      <td>102.735194</td>\n",
       "      <td>219.802739</td>\n",
       "      <td>5.964620</td>\n",
       "      <td>2001.260436</td>\n",
       "    </tr>\n",
       "    <tr>\n",
       "      <th>std</th>\n",
       "      <td>2.813866e+07</td>\n",
       "      <td>1.097455e+08</td>\n",
       "      <td>30.038841</td>\n",
       "      <td>578.789325</td>\n",
       "      <td>0.930286</td>\n",
       "      <td>12.819831</td>\n",
       "    </tr>\n",
       "    <tr>\n",
       "      <th>min</th>\n",
       "      <td>1.000000e+00</td>\n",
       "      <td>2.000000e+00</td>\n",
       "      <td>3.000000</td>\n",
       "      <td>10.000000</td>\n",
       "      <td>1.500000</td>\n",
       "      <td>1960.000000</td>\n",
       "    </tr>\n",
       "    <tr>\n",
       "      <th>25%</th>\n",
       "      <td>1.480506e+07</td>\n",
       "      <td>4.021780e+07</td>\n",
       "      <td>90.000000</td>\n",
       "      <td>17.000000</td>\n",
       "      <td>5.400000</td>\n",
       "      <td>1995.000000</td>\n",
       "    </tr>\n",
       "    <tr>\n",
       "      <th>50%</th>\n",
       "      <td>1.480506e+07</td>\n",
       "      <td>6.243530e+07</td>\n",
       "      <td>99.000000</td>\n",
       "      <td>39.000000</td>\n",
       "      <td>6.000000</td>\n",
       "      <td>2006.000000</td>\n",
       "    </tr>\n",
       "    <tr>\n",
       "      <th>75%</th>\n",
       "      <td>1.600000e+07</td>\n",
       "      <td>6.243530e+07</td>\n",
       "      <td>112.000000</td>\n",
       "      <td>148.000000</td>\n",
       "      <td>6.600000</td>\n",
       "      <td>2011.000000</td>\n",
       "    </tr>\n",
       "    <tr>\n",
       "      <th>max</th>\n",
       "      <td>4.250000e+08</td>\n",
       "      <td>2.781506e+09</td>\n",
       "      <td>900.000000</td>\n",
       "      <td>9767.000000</td>\n",
       "      <td>9.200000</td>\n",
       "      <td>2015.000000</td>\n",
       "    </tr>\n",
       "  </tbody>\n",
       "</table>\n",
       "</div>"
      ],
      "text/plain": [
       "             budget       revenue       runtime    vote_count  vote_average  \\\n",
       "count  1.073200e+04  1.073200e+04  10732.000000  10732.000000  10732.000000   \n",
       "mean   2.250005e+07  7.457070e+07    102.735194    219.802739      5.964620   \n",
       "std    2.813866e+07  1.097455e+08     30.038841    578.789325      0.930286   \n",
       "min    1.000000e+00  2.000000e+00      3.000000     10.000000      1.500000   \n",
       "25%    1.480506e+07  4.021780e+07     90.000000     17.000000      5.400000   \n",
       "50%    1.480506e+07  6.243530e+07     99.000000     39.000000      6.000000   \n",
       "75%    1.600000e+07  6.243530e+07    112.000000    148.000000      6.600000   \n",
       "max    4.250000e+08  2.781506e+09    900.000000   9767.000000      9.200000   \n",
       "\n",
       "       release_year  \n",
       "count  10732.000000  \n",
       "mean    2001.260436  \n",
       "std       12.819831  \n",
       "min     1960.000000  \n",
       "25%     1995.000000  \n",
       "50%     2006.000000  \n",
       "75%     2011.000000  \n",
       "max     2015.000000  "
      ]
     },
     "execution_count": 61,
     "metadata": {},
     "output_type": "execute_result"
    }
   ],
   "source": [
    "df.describe()"
   ]
  },
  {
   "cell_type": "code",
   "execution_count": 62,
   "metadata": {},
   "outputs": [
    {
     "data": {
      "image/png": "[encoded data removed]",
      "text/plain": [
       "<Figure size 1080x720 with 6 Axes>"
      ]
     },
     "metadata": {
      "needs_background": "light"
     },
     "output_type": "display_data"
    }
   ],
   "source": [
    "df.hist(figsize=(15,10));"
   ]
  },
  {
   "cell_type": "markdown",
   "metadata": {},
   "source": [
    "<a id='eda'></a>\n",
    "## Exploratory Data Analysis\n",
    "\n",
    "\n",
    "## Research Question 1: what are the genres that contributed the most in the movie industry?"
   ]
  },
  {
   "cell_type": "code",
   "execution_count": 63,
   "metadata": {},
   "outputs": [
    {
     "data": {
      "text/plain": [
       "Drama              4747\n",
       "Comedy             3775\n",
       "Thriller           2903\n",
       "Action             2377\n",
       "Romance            1708\n",
       "Horror             1636\n",
       "Adventure          1465\n",
       "Crime              1354\n",
       "Science Fiction    1222\n",
       "Family             1214\n",
       "dtype: int64"
      ]
     },
     "execution_count": 63,
     "metadata": {},
     "output_type": "execute_result"
    }
   ],
   "source": [
    "def count_cast(x):\n",
    "    data_plot = df[x].str.cat(sep = '|')\n",
    "    data = pd.Series(data_plot.split('|'))\n",
    "    #counting the genres.\n",
    "    count = data.value_counts(ascending=False)\n",
    "    return count\n",
    "#calling the function.\n",
    "count = count_cast('genres')\n",
    "count.head(10)"
   ]
  },
  {
   "cell_type": "code",
   "execution_count": 70,
   "metadata": {},
   "outputs": [
    {
     "data": {
      "image/png": "[encoded data removed]",
      "text/plain": [
       "<Figure size 864x648 with 1 Axes>"
      ]
     },
     "metadata": {
      "needs_background": "light"
     },
     "output_type": "display_data"
    }
   ],
   "source": [
    "count.sort_values(ascending = True, inplace = True)\n",
    "\n",
    "#ploting\n",
    "plot = count.plot.barh(color = 'navy', fontsize = 13)\n",
    "\n",
    "#title\n",
    "plot.set(title = 'every used genre')\n",
    "\n",
    "#x axis\n",
    "plot.set_xlabel('amount of movies', color = 'black', fontsize = '12')\n",
    "\n",
    "#size\n",
    "plot.figure.set_size_inches(12, 9)\n",
    "\n",
    "#showing the bar plot\n",
    "plt.show()"
   ]
  },
  {
   "cell_type": "markdown",
   "metadata": {},
   "source": [
    "### clearly there are four frequent genres drama, comedy, thriller and action. As known these have contributed to the movie industry greatly."
   ]
  },
  {
   "cell_type": "markdown",
   "metadata": {},
   "source": [
    "\n",
    "\n",
    "\n",
    "## Research Question 2: does a higher vote count contribute to a higher vote average?"
   ]
  },
  {
   "cell_type": "code",
   "execution_count": 65,
   "metadata": {},
   "outputs": [
    {
     "data": {
      "image/png": "[encoded data removed]",
      "text/plain": [
       "<Figure size 432x288 with 1 Axes>"
      ]
     },
     "metadata": {
      "needs_background": "light"
     },
     "output_type": "display_data"
    },
    {
     "data": {
      "image/png": "[encoded data removed]",
      "text/plain": [
       "<Figure size 432x288 with 1 Axes>"
      ]
     },
     "metadata": {
      "needs_background": "light"
     },
     "output_type": "display_data"
    }
   ],
   "source": [
    "df_vote = df.loc[:, 'vote_count' : 'vote_average']\n",
    "df_vote_low = df_vote[df_vote['vote_count'] < 1750]\n",
    "df_vote_high = df_vote[df_vote['vote_count'] > 1750]\n",
    "df_vote_low.plot(x='vote_count', y='vote_average', kind='scatter');\n",
    "df_vote_high.plot(x='vote_count', y='vote_average', kind='scatter');"
   ]
  },
  {
   "cell_type": "code",
   "execution_count": 66,
   "metadata": {},
   "outputs": [
    {
     "data": {
      "text/plain": [
       "vote_count      142.417113\n",
       "vote_average      5.935710\n",
       "dtype: float64"
      ]
     },
     "execution_count": 66,
     "metadata": {},
     "output_type": "execute_result"
    }
   ],
   "source": [
    "df_vote_low.mean()"
   ]
  },
  {
   "cell_type": "code",
   "execution_count": 67,
   "metadata": {},
   "outputs": [
    {
     "data": {
      "text/plain": [
       "vote_count      3071.374558\n",
       "vote_average       7.030035\n",
       "dtype: float64"
      ]
     },
     "execution_count": 67,
     "metadata": {},
     "output_type": "execute_result"
    }
   ],
   "source": [
    "df_vote_high.mean()"
   ]
  },
  {
   "cell_type": "markdown",
   "metadata": {},
   "source": [
    "### as you can see the mean for the vote average is considerably higher when the vote count is above 1750 votes compared to the vote average when the vote count is less than 1750 votes."
   ]
  },
  {
   "cell_type": "markdown",
   "metadata": {},
   "source": [
    "## Research Question 3: did the revenue increase over the years in the movie industry?"
   ]
  },
  {
   "cell_type": "code",
   "execution_count": 68,
   "metadata": {},
   "outputs": [
    {
     "data": {
      "image/png": "[encoded data removed]",
      "text/plain": [
       "<Figure size 1080x720 with 1 Axes>"
      ]
     },
     "metadata": {
      "needs_background": "light"
     },
     "output_type": "display_data"
    }
   ],
   "source": [
    "df.plot(x='release_year', y='revenue', kind='scatter', figsize=(15,10))\n",
    "plt.title('the relationship between release year and revenue')\n",
    "plt.xlabel('Release_year')\n",
    "plt.ylabel('Revenue');"
   ]
  },
  {
   "cell_type": "markdown",
   "metadata": {},
   "source": [
    "### as shown in the chart there is a clear increase in the revenue as the release year gets newer. this shows us that the movie industry was steady since 1980, after that the revenue defenitely started to grow higher and higher.  "
   ]
  },
  {
   "cell_type": "markdown",
   "metadata": {},
   "source": [
    "<a id='conclusions'></a>\n",
    "## Conclusions\n",
    "\n",
    "### In conclusion i would like to mention that investigating a dataset was inspiring and challenging at the same time. First of all i applied the data to the notebook and started understanding and visualizing it, then i dropped the information that dosen't seem to cope with the project.\n",
    "\n",
    "## Limitations\n",
    "\n",
    "### While working on the project i came across some obsticles in the data such as null and zero values that were in a good proportion of the data. I removed the null values and filled in the zeros with the the mean. Also the sample dosen't seem to represent the population perfectly.\n",
    "\n",
    "\n",
    "## the questions\n",
    "\n",
    "### The first question was about the genres that were in movies the most. the answer didn't surprise me because drama and comedy are very common in movies.\n",
    "\n",
    "### Secondly i asked if a higher vote count meant a higher rating and it turned out to be practically true.\n",
    "\n",
    "### The third and last question was about the revenue and if it had increased over the years. The answer was clear that movies make higher revenues nowadays compared to the past.\n",
    "\n",
    "### The questions that i asked were challenging at first but i managed to answer them all to my satisfaction.\n"
   ]
  }
 ],
 "metadata": {
  "kernelspec": {
   "display_name": "Python 3",
   "language": "python",
   "name": "python3"
  },
  "language_info": {
   "codemirror_mode": {
    "name": "ipython",
    "version": 3
   },
   "file_extension": ".py",
   "mimetype": "text/x-python",
   "name": "python",
   "nbconvert_exporter": "python",
   "pygments_lexer": "ipython3",
   "version": "3.7.6"
  }
 },
 "nbformat": 4,
 "nbformat_minor": 2
}
